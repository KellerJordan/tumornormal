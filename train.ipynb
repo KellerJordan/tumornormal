{
 "cells": [
  {
   "cell_type": "markdown",
   "metadata": {},
   "source": [
    "# Deriving cancer gene's from expression data\n",
    "\n",
    "See if it's possible to train a deep neural network tumor/normal binary classifier using just the Toil TCGA, TARGET and GTEX expression datasets:\n",
    "\n",
    "https://xenabrowser.net/datapages/?host=https://toil.xenahubs.net)"
   ]
  },
  {
   "cell_type": "code",
   "execution_count": 2,
   "metadata": {},
   "outputs": [],
   "source": [
    "import os\n",
    "import numpy as np\n",
    "import pandas as pd\n",
    "import tensorflow as tf\n",
    "import keras\n",
    "\n",
    "# fix random seed for reproducibility\n",
    "np.random.seed(42)"
   ]
  },
  {
   "cell_type": "code",
   "execution_count": 3,
   "metadata": {},
   "outputs": [],
   "source": [
    "\"\"\"\n",
    "Detect if there are GPU's on this box and if so use them politely. If not use the CPU.\n",
    "\"\"\"\n",
    "import re\n",
    "import subprocess\n",
    "import keras.backend.tensorflow_backend\n",
    "\n",
    "def get_session():\n",
    "    return tf.Session(config=tf.ConfigProto(log_device_placement=True, allow_soft_placement=True,\n",
    "                                            gpu_options=tf.GPUOptions(allow_growth=True)))\n",
    "keras.backend.tensorflow_backend.set_session(get_session())"
   ]
  },
  {
   "cell_type": "code",
   "execution_count": 4,
   "metadata": {},
   "outputs": [
    {
     "name": "stdout",
     "output_type": "stream",
     "text": [
      "Datasets: ['X_test', 'X_train', 'class_labels', 'classes_test', 'classes_train', 'features', 'genes', 'labels', 'y_test', 'y_train']\n",
      "Training on full dataset\n",
      "X_train.shape: (15300, 60498) epochs: 8 batch_size: 128\n"
     ]
    }
   ],
   "source": [
    "from keras.utils.io_utils import HDF5Matrix\n",
    "import h5py\n",
    "\n",
    "input_file = \"data/tumor_normal.h5\"\n",
    "\n",
    "with h5py.File(input_file, \"r\") as f:\n",
    "    print(\"Datasets:\", list(f.keys()))\n",
    "\n",
    "X_train = HDF5Matrix(input_file, \"X_train\")\n",
    "X_test = HDF5Matrix(input_file, \"X_test\")\n",
    "y_train = HDF5Matrix(input_file, \"y_train\")\n",
    "y_test = HDF5Matrix(input_file, \"y_test\")\n",
    "\n",
    "print(\"Training on full dataset\")\n",
    "\n",
    "num_epochs = 8\n",
    "batch_size = 128\n",
    "    \n",
    "print(\"X_train.shape:\", X_train.shape, \"epochs:\", num_epochs, \"batch_size:\", batch_size)"
   ]
  },
  {
   "cell_type": "code",
   "execution_count": 85,
   "metadata": {},
   "outputs": [
    {
     "name": "stdout",
     "output_type": "stream",
     "text": [
      "Train on 13770 samples, validate on 1530 samples\n",
      "Epoch 1/8\n",
      "13770/13770 [==============================] - 4s 322us/step - loss: 0.8444 - acc: 0.9375 - val_loss: 2.2452 - val_acc: 0.8229\n",
      "Epoch 2/8\n",
      "13770/13770 [==============================] - 2s 152us/step - loss: 0.6239 - acc: 0.9603 - val_loss: 0.8363 - val_acc: 0.9314\n",
      "Epoch 3/8\n",
      "13770/13770 [==============================] - 2s 148us/step - loss: 0.6277 - acc: 0.9603 - val_loss: 0.5599 - val_acc: 0.9641\n",
      "Epoch 4/8\n",
      "13770/13770 [==============================] - 2s 144us/step - loss: 0.6239 - acc: 0.9600 - val_loss: 0.5660 - val_acc: 0.9608\n",
      "Epoch 5/8\n",
      "13770/13770 [==============================] - 2s 144us/step - loss: 0.6132 - acc: 0.9611 - val_loss: 0.5301 - val_acc: 0.9654\n",
      "Epoch 6/8\n",
      "13770/13770 [==============================] - 2s 144us/step - loss: 0.6103 - acc: 0.9615 - val_loss: 0.5492 - val_acc: 0.9627\n",
      "Epoch 7/8\n",
      "13770/13770 [==============================] - 2s 143us/step - loss: 0.6068 - acc: 0.9617 - val_loss: 0.5377 - val_acc: 0.9641\n",
      "Epoch 8/8\n",
      "13770/13770 [==============================] - 2s 144us/step - loss: 0.6056 - acc: 0.9620 - val_loss: 0.5395 - val_acc: 0.9641\n",
      "3826/3826 [==============================] - 1s 193us/step\n",
      "['loss', 'acc'] [0.61450907499848173, 0.95948771562990065]\n"
     ]
    }
   ],
   "source": [
    "\"\"\"\n",
    "Batch normalization with a sparse layer.\n",
    "\n",
    "Achieves on Test:\n",
    "3744/3826 [============================>.] - ETA: 0s(['loss', 'acc'], [0.52888519396363787, 0.89388395178336721])\n",
    "\"\"\"\n",
    "from keras.models import Model, Sequential\n",
    "from keras.layers import InputLayer, Dense, BatchNormalization, Activation, Dropout\n",
    "from keras.callbacks import EarlyStopping\n",
    "from keras import regularizers\n",
    "\n",
    "classify = [\n",
    "    InputLayer(input_shape=(X_train.shape[1],)),\n",
    "    BatchNormalization(),\n",
    "    \n",
    "    # apparently a linear classifier does quite well\n",
    "    \n",
    "#     Dense(100),\n",
    "#     BatchNormalization(),\n",
    "#     Activation('relu'),\n",
    "#     Dropout(0.5),\n",
    "\n",
    "#     Dense(1000, activity_regularizer=regularizers.l1(1e-5)),\n",
    "#     BatchNormalization(),\n",
    "#     Activation('relu'),\n",
    "#     Dropout(0.5),\n",
    "    \n",
    "#     Dense(500),\n",
    "#     Activation('relu'),\n",
    "#     Dropout(0.5),\n",
    "    \n",
    "#     Dense(500),\n",
    "#     Activation('relu'),\n",
    "#     Dropout(0.5),\n",
    "    \n",
    "    Dense(1),\n",
    "    Activation('sigmoid')\n",
    "]\n",
    "\n",
    "model = Sequential(classify)\n",
    "\n",
    "from keras import optimizers\n",
    "# SGD with a too-high learning rate somehow prevents overfitting and allows for super-.93 accuracy\n",
    "optim = optimizers.SGD(lr=0.01, decay=1e-6, momentum=0.9, nesterov=True)\n",
    "\n",
    "model.compile(loss='binary_crossentropy', optimizer=optim, metrics=['accuracy'])\n",
    "\n",
    "# callbacks=[EarlyStopping(monitor='acc', min_delta=0.001, patience=2, verbose=2, mode=\"max\")]\n",
    "callbacks = []\n",
    "\n",
    "history = model.fit(X_train, y_train, validation_split=0.1, epochs=8, batch_size=batch_size, shuffle=\"batch\", callbacks=callbacks)\n",
    "\n",
    "print(model.metrics_names, model.evaluate(X_test, y_test))"
   ]
  },
  {
   "cell_type": "code",
   "execution_count": 86,
   "metadata": {},
   "outputs": [
    {
     "data": {
      "image/png": "[encoded data removed]",
      "text/plain": [
       "<matplotlib.figure.Figure at 0x7f4eeccbb9e8>"
      ]
     },
     "metadata": {},
     "output_type": "display_data"
    }
   ],
   "source": [
    "import matplotlib.pyplot as plt\n",
    "plt.plot(history.history['acc'])\n",
    "plt.plot(history.history['val_acc'])\n",
    "plt.legend(['train', 'val'], loc='upper left')\n",
    "plt.show()"
   ]
  },
  {
   "cell_type": "code",
   "execution_count": 52,
   "metadata": {},
   "outputs": [],
   "source": [
    "X_np = X_train.data.value"
   ]
  },
  {
   "cell_type": "code",
   "execution_count": 55,
   "metadata": {},
   "outputs": [
    {
     "name": "stdout",
     "output_type": "stream",
     "text": [
      "X_train mean, std:  -5.10433 5.88025\n",
      "beta mean, std, max, min:  -0.000611181 0.00772694 1.14909 0.882911\n",
      "gamma mean, std, max, min:  0.992192 0.0221256 1.14909 0.882911\n"
     ]
    }
   ],
   "source": [
    "print('X_train mean, std: ', X_np.mean(), X_np.std())\n",
    "# the input data is not normalized!\n",
    "\n",
    "# so its clear the reason batchnorm is necessary is not that it learns very useful gamma/beta, but just for\n",
    "# the normalization of input data\n",
    "gamma, beta = classify[1].get_weights()[:2]\n",
    "print('beta mean, std, max, min: ', beta.mean(), beta.std(), gamma.max(), gamma.min())\n",
    "print('gamma mean, std, max, min: ', gamma.mean(), gamma.std(), gamma.max(), gamma.min())\n",
    "# why are the min and max of beta/gamma the same? strange"
   ]
  },
  {
   "cell_type": "code",
   "execution_count": 5,
   "metadata": {},
   "outputs": [
    {
     "name": "stdout",
     "output_type": "stream",
     "text": [
      "Saved to model.json and weights.json\n"
     ]
    }
   ],
   "source": [
    "\"\"\"\n",
    "Save model and weights so we can copy them back from the GPU machine\n",
    "to visualize and evaluate locally.\n",
    "\"\"\"\n",
    "model_json = model.to_json()\n",
    "if not os.path.exists(\"models\"):\n",
    "    os.makedirs(\"models\")\n",
    "with open(\"models/model.json\", \"w\") as f:\n",
    "    f.write(model.to_json())\n",
    "\n",
    "model.save_weights(\"models/weights.h5\")\n",
    "print(\"Saved to model.json and weights.json\")"
   ]
  }
 ],
 "metadata": {
  "kernelspec": {
   "display_name": "Python 3",
   "language": "python",
   "name": "python3"
  },
  "language_info": {
   "codemirror_mode": {
    "name": "ipython",
    "version": 3
   },
   "file_extension": ".py",
   "mimetype": "text/x-python",
   "name": "python",
   "nbconvert_exporter": "python",
   "pygments_lexer": "ipython3",
   "version": "3.5.2"
  }
 },
 "nbformat": 4,
 "nbformat_minor": 2
}
